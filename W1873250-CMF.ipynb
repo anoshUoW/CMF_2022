{
 "cells": [
  {
   "cell_type": "code",
   "execution_count": 20,
   "id": "28796290",
   "metadata": {},
   "outputs": [],
   "source": [
    "import yfinance as yf\n",
    "import numpy as np\n",
    "import pandas as pd\n",
    "import matplotlib as mpl\n",
    "import scipy.stats as si\n",
    "from mpl_toolkits.mplot3d import Axes3D\n",
    "import matplotlib.pyplot as plt"
   ]
  },
  {
   "cell_type": "code",
   "execution_count": 21,
   "id": "8667c5a5",
   "metadata": {},
   "outputs": [
    {
     "name": "stdout",
     "output_type": "stream",
     "text": [
      "[*********************100%***********************]  1 of 1 completed\n"
     ]
    }
   ],
   "source": [
    "\n",
    "initial_data = yf.download(\"XRP-USD\", start=\"2020-04-01\", end=\"2022-04-01\") # downlading the data from yahoo finacne"
   ]
  },
  {
   "cell_type": "code",
   "execution_count": 22,
   "id": "ec2c07b5",
   "metadata": {},
   "outputs": [
    {
     "data": {
      "text/html": [
       "<div>\n",
       "<style scoped>\n",
       "    .dataframe tbody tr th:only-of-type {\n",
       "        vertical-align: middle;\n",
       "    }\n",
       "\n",
       "    .dataframe tbody tr th {\n",
       "        vertical-align: top;\n",
       "    }\n",
       "\n",
       "    .dataframe thead th {\n",
       "        text-align: right;\n",
       "    }\n",
       "</style>\n",
       "<table border=\"1\" class=\"dataframe\">\n",
       "  <thead>\n",
       "    <tr style=\"text-align: right;\">\n",
       "      <th></th>\n",
       "      <th>Open</th>\n",
       "      <th>High</th>\n",
       "      <th>Low</th>\n",
       "      <th>Close</th>\n",
       "      <th>Adj Close</th>\n",
       "      <th>Volume</th>\n",
       "    </tr>\n",
       "    <tr>\n",
       "      <th>Date</th>\n",
       "      <th></th>\n",
       "      <th></th>\n",
       "      <th></th>\n",
       "      <th></th>\n",
       "      <th></th>\n",
       "      <th></th>\n",
       "    </tr>\n",
       "  </thead>\n",
       "  <tbody>\n",
       "    <tr>\n",
       "      <th>2020-03-31</th>\n",
       "      <td>0.172134</td>\n",
       "      <td>0.177883</td>\n",
       "      <td>0.171549</td>\n",
       "      <td>0.174563</td>\n",
       "      <td>0.174563</td>\n",
       "      <td>2101862050</td>\n",
       "    </tr>\n",
       "    <tr>\n",
       "      <th>2020-04-01</th>\n",
       "      <td>0.174315</td>\n",
       "      <td>0.175323</td>\n",
       "      <td>0.169134</td>\n",
       "      <td>0.175323</td>\n",
       "      <td>0.175323</td>\n",
       "      <td>2053108172</td>\n",
       "    </tr>\n",
       "    <tr>\n",
       "      <th>2020-04-02</th>\n",
       "      <td>0.175180</td>\n",
       "      <td>0.183321</td>\n",
       "      <td>0.174310</td>\n",
       "      <td>0.178640</td>\n",
       "      <td>0.178640</td>\n",
       "      <td>2352651038</td>\n",
       "    </tr>\n",
       "    <tr>\n",
       "      <th>2020-04-03</th>\n",
       "      <td>0.178769</td>\n",
       "      <td>0.182728</td>\n",
       "      <td>0.176886</td>\n",
       "      <td>0.179467</td>\n",
       "      <td>0.179467</td>\n",
       "      <td>2106869711</td>\n",
       "    </tr>\n",
       "    <tr>\n",
       "      <th>2020-04-04</th>\n",
       "      <td>0.179612</td>\n",
       "      <td>0.182300</td>\n",
       "      <td>0.178305</td>\n",
       "      <td>0.181732</td>\n",
       "      <td>0.181732</td>\n",
       "      <td>1793826153</td>\n",
       "    </tr>\n",
       "  </tbody>\n",
       "</table>\n",
       "</div>"
      ],
      "text/plain": [
       "                Open      High       Low     Close  Adj Close      Volume\n",
       "Date                                                                     \n",
       "2020-03-31  0.172134  0.177883  0.171549  0.174563   0.174563  2101862050\n",
       "2020-04-01  0.174315  0.175323  0.169134  0.175323   0.175323  2053108172\n",
       "2020-04-02  0.175180  0.183321  0.174310  0.178640   0.178640  2352651038\n",
       "2020-04-03  0.178769  0.182728  0.176886  0.179467   0.179467  2106869711\n",
       "2020-04-04  0.179612  0.182300  0.178305  0.181732   0.181732  1793826153"
      ]
     },
     "execution_count": 22,
     "metadata": {},
     "output_type": "execute_result"
    }
   ],
   "source": [
    "initial_data.head()#showing the first 5 data"
   ]
  },
  {
   "cell_type": "code",
   "execution_count": 23,
   "id": "48586ed9",
   "metadata": {},
   "outputs": [
    {
     "data": {
      "text/html": [
       "<div>\n",
       "<style scoped>\n",
       "    .dataframe tbody tr th:only-of-type {\n",
       "        vertical-align: middle;\n",
       "    }\n",
       "\n",
       "    .dataframe tbody tr th {\n",
       "        vertical-align: top;\n",
       "    }\n",
       "\n",
       "    .dataframe thead th {\n",
       "        text-align: right;\n",
       "    }\n",
       "</style>\n",
       "<table border=\"1\" class=\"dataframe\">\n",
       "  <thead>\n",
       "    <tr style=\"text-align: right;\">\n",
       "      <th></th>\n",
       "      <th>Adj Close</th>\n",
       "    </tr>\n",
       "    <tr>\n",
       "      <th>Date</th>\n",
       "      <th></th>\n",
       "    </tr>\n",
       "  </thead>\n",
       "  <tbody>\n",
       "    <tr>\n",
       "      <th>2020-03-31</th>\n",
       "      <td>0.174563</td>\n",
       "    </tr>\n",
       "    <tr>\n",
       "      <th>2020-04-01</th>\n",
       "      <td>0.175323</td>\n",
       "    </tr>\n",
       "    <tr>\n",
       "      <th>2020-04-02</th>\n",
       "      <td>0.178640</td>\n",
       "    </tr>\n",
       "    <tr>\n",
       "      <th>2020-04-03</th>\n",
       "      <td>0.179467</td>\n",
       "    </tr>\n",
       "    <tr>\n",
       "      <th>2020-04-04</th>\n",
       "      <td>0.181732</td>\n",
       "    </tr>\n",
       "  </tbody>\n",
       "</table>\n",
       "</div>"
      ],
      "text/plain": [
       "            Adj Close\n",
       "Date                 \n",
       "2020-03-31   0.174563\n",
       "2020-04-01   0.175323\n",
       "2020-04-02   0.178640\n",
       "2020-04-03   0.179467\n",
       "2020-04-04   0.181732"
      ]
     },
     "execution_count": 23,
     "metadata": {},
     "output_type": "execute_result"
    }
   ],
   "source": [
    "initial_data[['Adj Close']].head()"
   ]
  },
  {
   "cell_type": "code",
   "execution_count": 24,
   "id": "9a5f2d84",
   "metadata": {},
   "outputs": [
    {
     "data": {
      "text/html": [
       "<div>\n",
       "<style scoped>\n",
       "    .dataframe tbody tr th:only-of-type {\n",
       "        vertical-align: middle;\n",
       "    }\n",
       "\n",
       "    .dataframe tbody tr th {\n",
       "        vertical-align: top;\n",
       "    }\n",
       "\n",
       "    .dataframe thead th {\n",
       "        text-align: right;\n",
       "    }\n",
       "</style>\n",
       "<table border=\"1\" class=\"dataframe\">\n",
       "  <thead>\n",
       "    <tr style=\"text-align: right;\">\n",
       "      <th></th>\n",
       "      <th>Adj Close</th>\n",
       "    </tr>\n",
       "    <tr>\n",
       "      <th>Date</th>\n",
       "      <th></th>\n",
       "    </tr>\n",
       "  </thead>\n",
       "  <tbody>\n",
       "    <tr>\n",
       "      <th>2020-03-31</th>\n",
       "      <td>0.174563</td>\n",
       "    </tr>\n",
       "    <tr>\n",
       "      <th>2020-04-01</th>\n",
       "      <td>0.175323</td>\n",
       "    </tr>\n",
       "    <tr>\n",
       "      <th>2020-04-02</th>\n",
       "      <td>0.178640</td>\n",
       "    </tr>\n",
       "    <tr>\n",
       "      <th>2020-04-03</th>\n",
       "      <td>0.179467</td>\n",
       "    </tr>\n",
       "    <tr>\n",
       "      <th>2020-04-04</th>\n",
       "      <td>0.181732</td>\n",
       "    </tr>\n",
       "  </tbody>\n",
       "</table>\n",
       "</div>"
      ],
      "text/plain": [
       "            Adj Close\n",
       "Date                 \n",
       "2020-03-31   0.174563\n",
       "2020-04-01   0.175323\n",
       "2020-04-02   0.178640\n",
       "2020-04-03   0.179467\n",
       "2020-04-04   0.181732"
      ]
     },
     "execution_count": 24,
     "metadata": {},
     "output_type": "execute_result"
    }
   ],
   "source": [
    "data =  initial_data[['Adj Close']]\n",
    "data.head()"
   ]
  },
  {
   "cell_type": "code",
   "execution_count": 25,
   "id": "28819f70",
   "metadata": {},
   "outputs": [
    {
     "data": {
      "text/html": [
       "<div>\n",
       "<style scoped>\n",
       "    .dataframe tbody tr th:only-of-type {\n",
       "        vertical-align: middle;\n",
       "    }\n",
       "\n",
       "    .dataframe tbody tr th {\n",
       "        vertical-align: top;\n",
       "    }\n",
       "\n",
       "    .dataframe thead th {\n",
       "        text-align: right;\n",
       "    }\n",
       "</style>\n",
       "<table border=\"1\" class=\"dataframe\">\n",
       "  <thead>\n",
       "    <tr style=\"text-align: right;\">\n",
       "      <th></th>\n",
       "      <th>Adj Close</th>\n",
       "    </tr>\n",
       "  </thead>\n",
       "  <tbody>\n",
       "    <tr>\n",
       "      <th>count</th>\n",
       "      <td>731.00</td>\n",
       "    </tr>\n",
       "    <tr>\n",
       "      <th>mean</th>\n",
       "      <td>0.63</td>\n",
       "    </tr>\n",
       "    <tr>\n",
       "      <th>std</th>\n",
       "      <td>0.38</td>\n",
       "    </tr>\n",
       "    <tr>\n",
       "      <th>min</th>\n",
       "      <td>0.17</td>\n",
       "    </tr>\n",
       "    <tr>\n",
       "      <th>25%</th>\n",
       "      <td>0.25</td>\n",
       "    </tr>\n",
       "    <tr>\n",
       "      <th>50%</th>\n",
       "      <td>0.60</td>\n",
       "    </tr>\n",
       "    <tr>\n",
       "      <th>75%</th>\n",
       "      <td>0.89</td>\n",
       "    </tr>\n",
       "    <tr>\n",
       "      <th>max</th>\n",
       "      <td>1.84</td>\n",
       "    </tr>\n",
       "  </tbody>\n",
       "</table>\n",
       "</div>"
      ],
      "text/plain": [
       "       Adj Close\n",
       "count     731.00\n",
       "mean        0.63\n",
       "std         0.38\n",
       "min         0.17\n",
       "25%         0.25\n",
       "50%         0.60\n",
       "75%         0.89\n",
       "max         1.84"
      ]
     },
     "execution_count": 25,
     "metadata": {},
     "output_type": "execute_result"
    }
   ],
   "source": [
    "data.describe().round(2)   #showig stats"
   ]
  },
  {
   "cell_type": "code",
   "execution_count": 26,
   "id": "f3848d5b",
   "metadata": {},
   "outputs": [
    {
     "data": {
      "text/plain": [
       "array([<AxesSubplot:xlabel='Date'>], dtype=object)"
      ]
     },
     "execution_count": 26,
     "metadata": {},
     "output_type": "execute_result"
    },
    {
     "data": {
      "image/png": "[encoded data removed]",
      "text/plain": [
       "<Figure size 1000x700 with 1 Axes>"
      ]
     },
     "metadata": {},
     "output_type": "display_data"
    }
   ],
   "source": [
    "data.plot(figsize=(10, 7), subplots=True) #plotting the movement of the stock"
   ]
  },
  {
   "cell_type": "code",
   "execution_count": 27,
   "id": "63d5cfbb",
   "metadata": {},
   "outputs": [],
   "source": [
    "log_return = np.log(initial_data['Adj Close'] / initial_data['Adj Close'].shift(1)) #calculating the volaltilty of the stock"
   ]
  },
  {
   "cell_type": "code",
   "execution_count": 28,
   "id": "9866eb43",
   "metadata": {},
   "outputs": [
    {
     "name": "stdout",
     "output_type": "stream",
     "text": [
      "The daily volatility is 6.81 %\n"
     ]
    }
   ],
   "source": [
    "vol = log_return.std()    #daily volatility\n",
    "print('The daily volatility is', round(vol*100,2), '%')"
   ]
  },
  {
   "cell_type": "code",
   "execution_count": 29,
   "id": "acad490c",
   "metadata": {},
   "outputs": [
    {
     "name": "stdout",
     "output_type": "stream",
     "text": [
      "The annualised volatility is 108.11 %\n"
     ]
    }
   ],
   "source": [
    "vol = np.sqrt(252) * log_return.std()  #annualised volatility\n",
    "print('The annualised volatility is', round(vol*100,2), '%')"
   ]
  },
  {
   "cell_type": "code",
   "execution_count": 30,
   "id": "463bfeb5",
   "metadata": {},
   "outputs": [
    {
     "data": {
      "text/plain": [
       "array([<AxesSubplot:xlabel='Date'>], dtype=object)"
      ]
     },
     "execution_count": 30,
     "metadata": {},
     "output_type": "execute_result"
    },
    {
     "data": {
      "image/png": "[encoded data removed]",
      "text/plain": [
       "<Figure size 1000x600 with 1 Axes>"
      ]
     },
     "metadata": {},
     "output_type": "display_data"
    }
   ],
   "source": [
    "log_return.dropna(inplace=True) #volatility graph\n",
    "log_return.plot(subplots=True, figsize=(10, 6))"
   ]
  },
  {
   "cell_type": "code",
   "execution_count": 31,
   "id": "7370a730",
   "metadata": {},
   "outputs": [
    {
     "name": "stdout",
     "output_type": "stream",
     "text": [
      "The last six months volatility is 116.82 %\n"
     ]
    }
   ],
   "source": [
    "last_six_vol = round(data['Adj Close'][125:].pct_change().apply(lambda x: np.log(1+x)).std() * np.sqrt(252)*100, 2)\n",
    "print('The last six months volatility is', last_six_vol, '%')   # last six months volatility"
   ]
  },
  {
   "cell_type": "code",
   "execution_count": 32,
   "id": "de3840c0",
   "metadata": {},
   "outputs": [
    {
     "name": "stdout",
     "output_type": "stream",
     "text": [
      "The first six months volatility is 46.17 %\n"
     ]
    }
   ],
   "source": [
    "first_six_vol = round(data['Adj Close'][:125].pct_change().apply(lambda x: np.log(1+x)).std() * np.sqrt(252)*100, 2)\n",
    "print('The first six months volatility is', first_six_vol, '%') # first six months volatility"
   ]
  },
  {
   "cell_type": "markdown",
   "id": "37c67ac9",
   "metadata": {},
   "source": [
    "# Question 2\n"
   ]
  },
  {
   "cell_type": "markdown",
   "id": "f81225e3",
   "metadata": {},
   "source": [
    "# methodology"
   ]
  },
  {
   "cell_type": "markdown",
   "id": "ef28f053",
   "metadata": {},
   "source": [
    "# BINOMIAL OPTION PRICING"
   ]
  },
  {
   "cell_type": "code",
   "execution_count": 33,
   "id": "b497a652",
   "metadata": {},
   "outputs": [
    {
     "name": "stdout",
     "output_type": "stream",
     "text": [
      "The spot price is 0.81\n"
     ]
    }
   ],
   "source": [
    "S = initial_data['Adj Close'][-1]\n",
    "print('The spot price is', round(S,2))  # getting the spot price"
   ]
  },
  {
   "cell_type": "code",
   "execution_count": 34,
   "id": "b9a784cf",
   "metadata": {},
   "outputs": [],
   "source": [
    "S0 = 0.81           # spot stock price\n",
    "K = 1.0               # strike price\n",
    "T = 1/24               # time to maturity \n",
    "r = 0.0169                # risk free rate \n",
    "sig = 1.08              # annaulised volatility\n",
    "N = 5                   # number of time steps of the tree\n",
    "payoff = \"call\"          # payoff \n"
   ]
  },
  {
   "cell_type": "code",
   "execution_count": 35,
   "id": "76464998",
   "metadata": {},
   "outputs": [],
   "source": [
    "dT = float(T) / N                             # Delta t\n",
    "u = np.exp(sig * np.sqrt(dT))                 # up probability factor\n",
    "d = 1.0 / u \n"
   ]
  },
  {
   "cell_type": "code",
   "execution_count": 36,
   "id": "f2fc07f9",
   "metadata": {},
   "outputs": [],
   "source": [
    "S = np.zeros((N + 1, N + 1))\n",
    "S[0, 0] = S0\n",
    "z = 1\n",
    "for t in range(1, N + 1):\n",
    "    for i in range(z):\n",
    "        S[i, t] = S[i, t-1] * u\n",
    "        S[i+1, t] = S[i, t-1] * d\n",
    "    z += 1"
   ]
  },
  {
   "cell_type": "code",
   "execution_count": 37,
   "id": "8e31ea87",
   "metadata": {},
   "outputs": [
    {
     "data": {
      "text/plain": [
       "array([[0.81      , 0.89392717, 0.98655036, 1.08877058, 1.20158223,\n",
       "        1.32608272],\n",
       "       [0.        , 0.73395241, 0.81      , 0.89392717, 0.98655036,\n",
       "        1.08877058],\n",
       "       [0.        , 0.        , 0.66504461, 0.73395241, 0.81      ,\n",
       "        0.89392717],\n",
       "       [0.        , 0.        , 0.        , 0.60260629, 0.66504461,\n",
       "        0.73395241],\n",
       "       [0.        , 0.        , 0.        , 0.        , 0.54603005,\n",
       "        0.60260629],\n",
       "       [0.        , 0.        , 0.        , 0.        , 0.        ,\n",
       "        0.49476552]])"
      ]
     },
     "execution_count": 37,
     "metadata": {},
     "output_type": "execute_result"
    }
   ],
   "source": [
    "S"
   ]
  },
  {
   "cell_type": "code",
   "execution_count": 38,
   "id": "9f47d13e",
   "metadata": {},
   "outputs": [
    {
     "data": {
      "text/plain": [
       "Text(0.5, 1.0, 'Frequency distribution of the simulated end-of-preiod values')"
      ]
     },
     "execution_count": 38,
     "metadata": {},
     "output_type": "execute_result"
    },
    {
     "data": {
      "image/png": "[encoded data removed]",
      "text/plain": [
       "<Figure size 640x480 with 1 Axes>"
      ]
     },
     "metadata": {},
     "output_type": "display_data"
    }
   ],
   "source": [
    "import matplotlib.pyplot as plt\n",
    "n, bins, patches = plt.hist(x=S[:,-1], bins='auto', color='#0504aa',alpha=0.7, rwidth=0.85)\n",
    "\n",
    "plt.grid(axis='y', alpha=0.75)\n",
    "plt.xlabel('S_T')\n",
    "plt.ylabel('Frequency')\n",
    "plt.title('Frequency distribution of the simulated end-of-preiod values')"
   ]
  },
  {
   "cell_type": "code",
   "execution_count": 39,
   "id": "55ba9c7c",
   "metadata": {},
   "outputs": [
    {
     "name": "stdout",
     "output_type": "stream",
     "text": [
      "European call 0.2124581022006493\n"
     ]
    }
   ],
   "source": [
    "p = np.mean(np.maximum(K - S[:,-1],0))\n",
    "print('European call', str(p))"
   ]
  },
  {
   "cell_type": "markdown",
   "id": "d6906952",
   "metadata": {},
   "source": [
    "# MONTE CARLO SIMULTION"
   ]
  },
  {
   "cell_type": "code",
   "execution_count": 40,
   "id": "005f8012",
   "metadata": {},
   "outputs": [],
   "source": [
    "def mcs_simulation_np(p):\n",
    "    M = p\n",
    "    I = p\n",
    "    dt = T / M \n",
    "    S = np.zeros((M + 1, I))\n",
    "    S[0] = S0 \n",
    "    rn = np.random.standard_normal(S.shape) \n",
    "    for t in range(1, M + 1): \n",
    "        S[t] = S[t-1] * np.exp((r - sigma ** 2 / 2) * dt + sigma * np.sqrt(dt) * rn[t]) \n",
    "    return S"
   ]
  },
  {
   "cell_type": "code",
   "execution_count": 41,
   "id": "14dd6257",
   "metadata": {},
   "outputs": [],
   "source": [
    "T = 1/12\n",
    "r = 0.0169\n",
    "sigma = 1.09\n",
    "S0 = 0.81\n",
    "K = 1.0"
   ]
  },
  {
   "cell_type": "code",
   "execution_count": 42,
   "id": "ae19c372",
   "metadata": {},
   "outputs": [],
   "source": [
    "S = mcs_simulation_np(10000)    #number of simulations"
   ]
  },
  {
   "cell_type": "code",
   "execution_count": 43,
   "id": "05413d5a",
   "metadata": {},
   "outputs": [
    {
     "data": {
      "text/plain": [
       "array([[0.81      , 0.80757073, 0.80759061, ..., 0.79809156, 0.79745967,\n",
       "        0.7963892 ],\n",
       "       [0.81      , 0.80836652, 0.81041798, ..., 0.62177508, 0.62365204,\n",
       "        0.62286022],\n",
       "       [0.81      , 0.81053274, 0.81319597, ..., 0.50928239, 0.51008474,\n",
       "        0.51145782],\n",
       "       ...,\n",
       "       [0.81      , 0.81090177, 0.81588615, ..., 1.10115086, 1.098816  ,\n",
       "        1.09526969],\n",
       "       [0.81      , 0.81094765, 0.80880466, ..., 0.6342435 , 0.63451779,\n",
       "        0.63495368],\n",
       "       [0.81      , 0.8136564 , 0.81140317, ..., 0.81675128, 0.82238941,\n",
       "        0.81830209]])"
      ]
     },
     "execution_count": 43,
     "metadata": {},
     "output_type": "execute_result"
    }
   ],
   "source": [
    "S = np.transpose(S)\n",
    "S\n"
   ]
  },
  {
   "cell_type": "code",
   "execution_count": 44,
   "id": "b09dfb2e",
   "metadata": {},
   "outputs": [
    {
     "data": {
      "text/plain": [
       "Text(0.5, 1.0, 'Frequency distribution of the simulated end-of-preiod values')"
      ]
     },
     "execution_count": 44,
     "metadata": {},
     "output_type": "execute_result"
    },
    {
     "data": {
      "image/png": "[encoded data removed]",
      "text/plain": [
       "<Figure size 640x480 with 1 Axes>"
      ]
     },
     "metadata": {},
     "output_type": "display_data"
    }
   ],
   "source": [
    "import matplotlib.pyplot as plt\n",
    "n, bins, patches = plt.hist(x=S[:,-1], bins='auto', color='#0504aa',alpha=0.7, rwidth=0.85)\n",
    "\n",
    "plt.grid(axis='y', alpha=0.75)\n",
    "plt.xlabel('S_T')\n",
    "plt.ylabel('Frequency')\n",
    "plt.title('Frequency distribution of the simulated end-of-preiod values')\n"
   ]
  },
  {
   "cell_type": "code",
   "execution_count": 45,
   "id": "5c15686d",
   "metadata": {},
   "outputs": [
    {
     "name": "stdout",
     "output_type": "stream",
     "text": [
      "European call 0.23129608394305032\n"
     ]
    }
   ],
   "source": [
    "p = np.mean(np.maximum(K - S[:,-1],0))\n",
    "print('European call', str(p))\n"
   ]
  },
  {
   "cell_type": "markdown",
   "id": "51ea58f4",
   "metadata": {},
   "source": [
    "# GREEKS"
   ]
  },
  {
   "cell_type": "markdown",
   "id": "fb32174b",
   "metadata": {},
   "source": [
    "# DELTA"
   ]
  },
  {
   "cell_type": "code",
   "execution_count": 46,
   "id": "fefb624c",
   "metadata": {},
   "outputs": [],
   "source": [
    "def delta(S, K, T, r, q, vol, payoff):\n",
    "    \n",
    "    d1 = (np.log(S / K) + (r - q + 0.5 * vol ** 2) * T) / (vol * np.sqrt(T))\n",
    "    if payoff == \"call\":\n",
    "        delta = np.exp(-q * T) * si.norm.cdf(d1, 0.0, 1.0)\n",
    "    elif payoff == \"put\":\n",
    "        delta =  - np.exp(-q * T) * si.norm.cdf(-d1, 0.0, 1.0)\n",
    "    \n",
    "    return delta"
   ]
  },
  {
   "cell_type": "code",
   "execution_count": 48,
   "id": "7712dce3",
   "metadata": {},
   "outputs": [
    {
     "data": {
      "text/plain": [
       "0.1994375766058432"
      ]
     },
     "execution_count": 48,
     "metadata": {},
     "output_type": "execute_result"
    }
   ],
   "source": [
    "delta(0.81, 1.0, 1/24, 0.0169, 0.0055, 1.08, 'call') # value of delta\n"
   ]
  },
  {
   "cell_type": "code",
   "execution_count": 54,
   "id": "a952eca8",
   "metadata": {},
   "outputs": [
    {
     "name": "stdout",
     "output_type": "stream",
     "text": [
      "The value of Delta is 0.1994 . If the stock price increase 1 dollar, then the value of the option will increase $ 0.1994 .\n"
     ]
    }
   ],
   "source": [
    "d = delta(0.81, 1.0, 1/24, 0.0169, 0.0055, 1.08, 'call')\n",
    "print('The value of Delta is', d.round(4),'.','If the stock price increase 1 dollar, then the value of the option will increase $', d.round(4), '.')"
   ]
  },
  {
   "cell_type": "markdown",
   "id": "d4483d3a",
   "metadata": {},
   "source": [
    "# GAMMA"
   ]
  },
  {
   "cell_type": "code",
   "execution_count": 55,
   "id": "bc7eb71a",
   "metadata": {},
   "outputs": [],
   "source": [
    "def gamma(S, K, T, r, q, vol, payoff):\n",
    "    \n",
    "    d1 = (np.log(S / K) + (r - q + 0.5 * vol ** 2) * T) / (vol * np.sqrt(T))\n",
    "    gamma = np.exp(- q * T) * si.norm.pdf(d1, 0.0, 1.0) / (vol * S * np.sqrt(T))\n",
    "    \n",
    "    return gamma"
   ]
  },
  {
   "cell_type": "code",
   "execution_count": 56,
   "id": "f5319e4e",
   "metadata": {},
   "outputs": [
    {
     "data": {
      "text/plain": [
       "1.5650218669830853"
      ]
     },
     "execution_count": 56,
     "metadata": {},
     "output_type": "execute_result"
    }
   ],
   "source": [
    "gamma(0.81, 1.0, 1/24, 0.0169, 0.0055, 1.08, 'call') #value of gamma"
   ]
  },
  {
   "cell_type": "code",
   "execution_count": 61,
   "id": "637840a5",
   "metadata": {},
   "outputs": [
    {
     "name": "stdout",
     "output_type": "stream",
     "text": [
      "The value of Gamma is 1.565 . If the stock price increase 1 dollar, then the value of the option will increase $ 1.565 .\n"
     ]
    }
   ],
   "source": [
    "d = gamma(0.81, 1.0, 1/24, 0.0169, 0.0055, 1.08, 'call')\n",
    "print('The value of Gamma is', d.round(4),'.','If the stock price increase 1 dollar, then the value of the option will increase $', d.round(4), '.')\n"
   ]
  },
  {
   "cell_type": "markdown",
   "id": "4b80ca46",
   "metadata": {},
   "source": [
    "# RHO"
   ]
  },
  {
   "cell_type": "code",
   "execution_count": 59,
   "id": "a76c5306",
   "metadata": {},
   "outputs": [],
   "source": [
    "def rho(S, K, T, r, q, vol, payoff):\n",
    "    \n",
    "    d1 = (np.log(S / K) + (r - q + 0.5 * vol ** 2) * T) / (vol * np.sqrt(T))\n",
    "    d2 = (np.log(S / K) + (r - q - 0.5 * vol ** 2) * T) / (vol * np.sqrt(T))\n",
    "    if payoff == \"call\":\n",
    "        rho =  K * T * np.exp(-r * T) * si.norm.cdf(d2, 0.0, 1.0)\n",
    "    elif payoff == \"put\":\n",
    "        rho = - K * T * np.exp(-r * T) * si.norm.cdf(-d2, 0.0, 1.0)\n",
    "    \n",
    "    return rho"
   ]
  },
  {
   "cell_type": "code",
   "execution_count": 62,
   "id": "1ad6f0fe",
   "metadata": {},
   "outputs": [
    {
     "data": {
      "text/plain": [
       "0.005982532754247216"
      ]
     },
     "execution_count": 62,
     "metadata": {},
     "output_type": "execute_result"
    }
   ],
   "source": [
    "rho(0.81, 1.0, 1/24, 0.0169, 0.0055, 1.08, 'call') #value of rho"
   ]
  },
  {
   "cell_type": "code",
   "execution_count": 63,
   "id": "f191ae03",
   "metadata": {},
   "outputs": [
    {
     "name": "stdout",
     "output_type": "stream",
     "text": [
      "The value of Rho is 0.006 . If the interest rate increases 1%, then the value of the option will increase $ 6e-05 .\n"
     ]
    }
   ],
   "source": [
    "r = rho(0.81, 1.0, 1/24, 0.0169, 0.0055, 1.08, 'call')\n",
    "print('The value of Rho is', r.round(4),'.','If the interest rate increases 1%, then the value of the option will increase $', r.round(4)*0.01, '.')\n"
   ]
  },
  {
   "cell_type": "markdown",
   "id": "3def352f",
   "metadata": {},
   "source": [
    "# VEGA "
   ]
  },
  {
   "cell_type": "code",
   "execution_count": 64,
   "id": "035b84a2",
   "metadata": {},
   "outputs": [],
   "source": [
    "def vega(S, K, T, r, q, vol, payoff):\n",
    "    \n",
    "    d1 = (np.log(S / K) + (r - q + 0.5 * vol ** 2) * T) / (vol * np.sqrt(T))\n",
    "    vega = S * np.sqrt(T) * np.exp(-q * T) * si.norm.pdf(d1, 0.0, 1.0)\n",
    "    \n",
    "    return vega"
   ]
  },
  {
   "cell_type": "code",
   "execution_count": 68,
   "id": "e3320ced",
   "metadata": {},
   "outputs": [
    {
     "data": {
      "text/plain": [
       "0.04620648811174211"
      ]
     },
     "execution_count": 68,
     "metadata": {},
     "output_type": "execute_result"
    }
   ],
   "source": [
    "vega(0.81, 1.0, 1/24, 0.0169, 0.0055, 1.08, 'call')  #value of vega\n",
    "  #value of vega"
   ]
  },
  {
   "cell_type": "code",
   "execution_count": 72,
   "id": "013ed08d",
   "metadata": {},
   "outputs": [
    {
     "name": "stdout",
     "output_type": "stream",
     "text": [
      "The value of Vega is 0.0462 . If the volatility increases 1%, then the value of the option will increase $ 0.000462 .\n"
     ]
    }
   ],
   "source": [
    "v = vega(0.81, 1.0, 1/24, 0.0169, 0.0055, 1.08, 'call')\n",
    "print('The value of Vega is', v.round(4),'.','If the volatility increases 1%, then the value of the option will increase $', v.round(4)*0.01, '.')\n"
   ]
  },
  {
   "cell_type": "markdown",
   "id": "469afabc",
   "metadata": {},
   "source": [
    "# THETA"
   ]
  },
  {
   "cell_type": "code",
   "execution_count": 74,
   "id": "804a1946",
   "metadata": {},
   "outputs": [],
   "source": [
    "def theta(S, K, T, r, q, vol, payoff):\n",
    "    \n",
    "    d1 = (np.log(S / K) + (r - q + 0.5 * vol ** 2) * T) / (vol * np.sqrt(T))\n",
    "    d2 = (np.log(S / K) + (r - q - 0.5 * vol ** 2) * T) / (vol * np.sqrt(T))\n",
    "    if payoff == \"call\":\n",
    "        theta = vol * S * np.exp(-q * T) * si.norm.pdf(d1, 0.0, 1.0) / (2 * np.sqrt(T)) - q * S * np.exp(-q * T) * si.norm.cdf(d1, 0.0, 1.0) + r * K * np.exp(-r * T) * si.norm.cdf(d2, 0.0, 1.0)\n",
    "    elif payoff == \"put\":\n",
    "        theta = vol * S * np.exp(-q * T) * si.norm.pdf(-d1, 0.0, 1.0) / (2 * np.sqrt(T)) - q * S * np.exp(-q * T) * si.norm.cdf(-d1, 0.0, 1.0) + r * K * np.exp(-r * T) * si.norm.cdf(-d2, 0.0, 1.0)\n",
    "    \n",
    "    return theta\n"
   ]
  },
  {
   "cell_type": "code",
   "execution_count": 78,
   "id": "7a2682e8",
   "metadata": {},
   "outputs": [
    {
     "data": {
      "text/plain": [
       "0.6003741068095215"
      ]
     },
     "execution_count": 78,
     "metadata": {},
     "output_type": "execute_result"
    }
   ],
   "source": [
    "theta(0.81, 1.0, 1/24, 0.0169, 0.0055, 1.08, 'call') #value of theta "
   ]
  },
  {
   "cell_type": "code",
   "execution_count": 79,
   "id": "28456f44",
   "metadata": {},
   "outputs": [
    {
     "name": "stdout",
     "output_type": "stream",
     "text": [
      "The value of Theta is 0.6004 . If the time increases 1 year, then the value of the option will increase $ 0.006004000000000001 .\n"
     ]
    }
   ],
   "source": [
    "t = theta(0.81, 1.0, 1/24, 0.0169, 0.0055, 1.08, 'call')\n",
    "print('The value of Theta is', t.round(4),'.','If the time increases 1 year, then the value of the option will increase $', t.round(4)*0.01, '.')"
   ]
  },
  {
   "cell_type": "code",
   "execution_count": null,
   "id": "a7c23f61",
   "metadata": {},
   "outputs": [],
   "source": []
  }
 ],
 "metadata": {
  "kernelspec": {
   "display_name": "Python 3 (ipykernel)",
   "language": "python",
   "name": "python3"
  },
  "language_info": {
   "codemirror_mode": {
    "name": "ipython",
    "version": 3
   },
   "file_extension": ".py",
   "mimetype": "text/x-python",
   "name": "python",
   "nbconvert_exporter": "python",
   "pygments_lexer": "ipython3",
   "version": "3.9.13"
  }
 },
 "nbformat": 4,
 "nbformat_minor": 5
}
